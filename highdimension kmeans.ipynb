{
 "cells": [
  {
   "cell_type": "code",
   "execution_count": 5,
   "metadata": {},
   "outputs": [],
   "source": [
    "from __future__ import print_function\n",
    "\n",
    "import numpy as np\n",
    "import pandas as pd\n",
    "import matplotlib.pyplot as plt\n",
    "from mpl_toolkits.mplot3d import Axes3D\n",
    "from sklearn.datasets.samples_generator import make_blobs\n",
    "from pyspark import SparkContext\n",
    "from pyspark.ml.clustering import KMeans\n",
    "from pyspark.ml.feature import VectorAssembler\n",
    "from pyspark.sql import SQLContext\n",
    "\n",
    "%matplotlib inline"
   ]
  },
  {
   "cell_type": "code",
   "execution_count": 7,
   "metadata": {},
   "outputs": [],
   "source": [
    "n_samples=1000000\n",
    "n_features=10\n",
    "X, y = make_blobs(n_samples=n_samples, centers=10, n_features=n_features, random_state=42)\n",
    "\n",
    "# add a row index as a string\n",
    "pddf = pd.DataFrame(X, columns=['x1', 'x2', 'x3', 'x4', 'x5', 'x6', 'x7', 'x8', 'x9', 'x10'])\n",
    "pddf['id'] = 'row'+pddf.index.astype(str)"
   ]
  },
  {
   "cell_type": "code",
   "execution_count": 10,
   "metadata": {},
   "outputs": [
    {
     "data": {
      "text/html": [
       "<div>\n",
       "<style scoped>\n",
       "    .dataframe tbody tr th:only-of-type {\n",
       "        vertical-align: middle;\n",
       "    }\n",
       "\n",
       "    .dataframe tbody tr th {\n",
       "        vertical-align: top;\n",
       "    }\n",
       "\n",
       "    .dataframe thead th {\n",
       "        text-align: right;\n",
       "    }\n",
       "</style>\n",
       "<table border=\"1\" class=\"dataframe\">\n",
       "  <thead>\n",
       "    <tr style=\"text-align: right;\">\n",
       "      <th></th>\n",
       "      <th>x1</th>\n",
       "      <th>x2</th>\n",
       "      <th>x3</th>\n",
       "      <th>x4</th>\n",
       "      <th>x5</th>\n",
       "      <th>x6</th>\n",
       "      <th>x7</th>\n",
       "      <th>x8</th>\n",
       "      <th>x9</th>\n",
       "      <th>x10</th>\n",
       "      <th>id</th>\n",
       "    </tr>\n",
       "  </thead>\n",
       "  <tbody>\n",
       "    <tr>\n",
       "      <th>0</th>\n",
       "      <td>-3.166771</td>\n",
       "      <td>-6.656822</td>\n",
       "      <td>4.487451</td>\n",
       "      <td>-3.026211</td>\n",
       "      <td>-4.027539</td>\n",
       "      <td>2.232245</td>\n",
       "      <td>-7.045234</td>\n",
       "      <td>5.988627</td>\n",
       "      <td>-8.487368</td>\n",
       "      <td>9.334317</td>\n",
       "      <td>row0</td>\n",
       "    </tr>\n",
       "    <tr>\n",
       "      <th>1</th>\n",
       "      <td>-9.684210</td>\n",
       "      <td>9.229980</td>\n",
       "      <td>5.946197</td>\n",
       "      <td>-5.576625</td>\n",
       "      <td>-6.846506</td>\n",
       "      <td>-7.607507</td>\n",
       "      <td>-1.898138</td>\n",
       "      <td>0.385057</td>\n",
       "      <td>-1.131365</td>\n",
       "      <td>-5.017755</td>\n",
       "      <td>row1</td>\n",
       "    </tr>\n",
       "    <tr>\n",
       "      <th>2</th>\n",
       "      <td>-8.411245</td>\n",
       "      <td>-3.488244</td>\n",
       "      <td>-9.286693</td>\n",
       "      <td>7.545883</td>\n",
       "      <td>-5.168007</td>\n",
       "      <td>3.739833</td>\n",
       "      <td>-6.071231</td>\n",
       "      <td>2.385325</td>\n",
       "      <td>0.827271</td>\n",
       "      <td>-7.046513</td>\n",
       "      <td>row2</td>\n",
       "    </tr>\n",
       "    <tr>\n",
       "      <th>3</th>\n",
       "      <td>-3.426842</td>\n",
       "      <td>-4.028318</td>\n",
       "      <td>5.537911</td>\n",
       "      <td>-4.692147</td>\n",
       "      <td>-4.305796</td>\n",
       "      <td>-1.772540</td>\n",
       "      <td>-6.744186</td>\n",
       "      <td>3.940025</td>\n",
       "      <td>-9.321463</td>\n",
       "      <td>10.606296</td>\n",
       "      <td>row3</td>\n",
       "    </tr>\n",
       "    <tr>\n",
       "      <th>4</th>\n",
       "      <td>9.066450</td>\n",
       "      <td>6.851678</td>\n",
       "      <td>9.085654</td>\n",
       "      <td>5.846004</td>\n",
       "      <td>2.172495</td>\n",
       "      <td>9.023892</td>\n",
       "      <td>-7.224522</td>\n",
       "      <td>-8.324583</td>\n",
       "      <td>-7.246586</td>\n",
       "      <td>-3.314304</td>\n",
       "      <td>row4</td>\n",
       "    </tr>\n",
       "    <tr>\n",
       "      <th>...</th>\n",
       "      <td>...</td>\n",
       "      <td>...</td>\n",
       "      <td>...</td>\n",
       "      <td>...</td>\n",
       "      <td>...</td>\n",
       "      <td>...</td>\n",
       "      <td>...</td>\n",
       "      <td>...</td>\n",
       "      <td>...</td>\n",
       "      <td>...</td>\n",
       "      <td>...</td>\n",
       "    </tr>\n",
       "    <tr>\n",
       "      <th>999995</th>\n",
       "      <td>-3.285948</td>\n",
       "      <td>9.046858</td>\n",
       "      <td>4.609713</td>\n",
       "      <td>3.243938</td>\n",
       "      <td>-9.234784</td>\n",
       "      <td>-6.233609</td>\n",
       "      <td>-8.467620</td>\n",
       "      <td>6.517095</td>\n",
       "      <td>2.915124</td>\n",
       "      <td>4.367704</td>\n",
       "      <td>row999995</td>\n",
       "    </tr>\n",
       "    <tr>\n",
       "      <th>999996</th>\n",
       "      <td>8.659692</td>\n",
       "      <td>2.995143</td>\n",
       "      <td>-2.541485</td>\n",
       "      <td>-9.426828</td>\n",
       "      <td>-4.570794</td>\n",
       "      <td>-3.448217</td>\n",
       "      <td>2.421931</td>\n",
       "      <td>1.785381</td>\n",
       "      <td>7.893602</td>\n",
       "      <td>-1.164516</td>\n",
       "      <td>row999996</td>\n",
       "    </tr>\n",
       "    <tr>\n",
       "      <th>999997</th>\n",
       "      <td>-9.551617</td>\n",
       "      <td>10.520938</td>\n",
       "      <td>6.274131</td>\n",
       "      <td>-5.168869</td>\n",
       "      <td>-6.146470</td>\n",
       "      <td>-7.037458</td>\n",
       "      <td>-4.330949</td>\n",
       "      <td>-0.549023</td>\n",
       "      <td>-1.259285</td>\n",
       "      <td>-3.924337</td>\n",
       "      <td>row999997</td>\n",
       "    </tr>\n",
       "    <tr>\n",
       "      <th>999998</th>\n",
       "      <td>7.156811</td>\n",
       "      <td>4.040988</td>\n",
       "      <td>-3.059900</td>\n",
       "      <td>-9.736503</td>\n",
       "      <td>-5.572444</td>\n",
       "      <td>-2.569983</td>\n",
       "      <td>2.234958</td>\n",
       "      <td>4.577705</td>\n",
       "      <td>7.406960</td>\n",
       "      <td>0.262020</td>\n",
       "      <td>row999998</td>\n",
       "    </tr>\n",
       "    <tr>\n",
       "      <th>999999</th>\n",
       "      <td>1.634337</td>\n",
       "      <td>-8.220393</td>\n",
       "      <td>-3.032315</td>\n",
       "      <td>-2.133044</td>\n",
       "      <td>-1.776769</td>\n",
       "      <td>5.564031</td>\n",
       "      <td>-7.850921</td>\n",
       "      <td>0.345688</td>\n",
       "      <td>1.479865</td>\n",
       "      <td>-10.365160</td>\n",
       "      <td>row999999</td>\n",
       "    </tr>\n",
       "  </tbody>\n",
       "</table>\n",
       "<p>1000000 rows × 11 columns</p>\n",
       "</div>"
      ],
      "text/plain": [
       "              x1         x2        x3        x4        x5        x6        x7  \\\n",
       "0      -3.166771  -6.656822  4.487451 -3.026211 -4.027539  2.232245 -7.045234   \n",
       "1      -9.684210   9.229980  5.946197 -5.576625 -6.846506 -7.607507 -1.898138   \n",
       "2      -8.411245  -3.488244 -9.286693  7.545883 -5.168007  3.739833 -6.071231   \n",
       "3      -3.426842  -4.028318  5.537911 -4.692147 -4.305796 -1.772540 -6.744186   \n",
       "4       9.066450   6.851678  9.085654  5.846004  2.172495  9.023892 -7.224522   \n",
       "...          ...        ...       ...       ...       ...       ...       ...   \n",
       "999995 -3.285948   9.046858  4.609713  3.243938 -9.234784 -6.233609 -8.467620   \n",
       "999996  8.659692   2.995143 -2.541485 -9.426828 -4.570794 -3.448217  2.421931   \n",
       "999997 -9.551617  10.520938  6.274131 -5.168869 -6.146470 -7.037458 -4.330949   \n",
       "999998  7.156811   4.040988 -3.059900 -9.736503 -5.572444 -2.569983  2.234958   \n",
       "999999  1.634337  -8.220393 -3.032315 -2.133044 -1.776769  5.564031 -7.850921   \n",
       "\n",
       "              x8        x9        x10         id  \n",
       "0       5.988627 -8.487368   9.334317       row0  \n",
       "1       0.385057 -1.131365  -5.017755       row1  \n",
       "2       2.385325  0.827271  -7.046513       row2  \n",
       "3       3.940025 -9.321463  10.606296       row3  \n",
       "4      -8.324583 -7.246586  -3.314304       row4  \n",
       "...          ...       ...        ...        ...  \n",
       "999995  6.517095  2.915124   4.367704  row999995  \n",
       "999996  1.785381  7.893602  -1.164516  row999996  \n",
       "999997 -0.549023 -1.259285  -3.924337  row999997  \n",
       "999998  4.577705  7.406960   0.262020  row999998  \n",
       "999999  0.345688  1.479865 -10.365160  row999999  \n",
       "\n",
       "[1000000 rows x 11 columns]"
      ]
     },
     "execution_count": 10,
     "metadata": {},
     "output_type": "execute_result"
    }
   ],
   "source": [
    "pddf"
   ]
  },
  {
   "cell_type": "code",
   "execution_count": 11,
   "metadata": {},
   "outputs": [],
   "source": [
    "pddf = pddf[['id', 'x1', 'x2', 'x3', 'x4', 'x5', 'x6', 'x7', 'x8', 'x9', 'x10']]"
   ]
  },
  {
   "cell_type": "code",
   "execution_count": 13,
   "metadata": {},
   "outputs": [],
   "source": [
    "pddf.to_csv('/Users/dengkun/Desktop/598/final project/10dim_data.csv', index=False)"
   ]
  },
  {
   "cell_type": "code",
   "execution_count": 14,
   "metadata": {},
   "outputs": [],
   "source": [
    "from pyspark.sql import SparkSession  \n",
    "# spark = SparkSession.builder.getOrCreate()\n",
    "spark = SparkSession.builder.appName(\"Python Spark Data Exploration\")\\\n",
    "           .config(\"spark.some.config.option\", \"some-value\").getOrCreate()"
   ]
  },
  {
   "cell_type": "code",
   "execution_count": 15,
   "metadata": {},
   "outputs": [],
   "source": [
    "filename = \"/Users/dengkun/Desktop/598/final project/10dim_data.csv\"\n",
    "df = spark.read.options(header=True, inferSchema=True).csv(filename)"
   ]
  },
  {
   "cell_type": "code",
   "execution_count": 16,
   "metadata": {},
   "outputs": [
    {
     "name": "stdout",
     "output_type": "stream",
     "text": [
      "+-----+-------------------+-------------------+-------------------+-------------------+-------------------+-------------------+--------------------+--------------------+-------------------+-------------------+\n",
      "|   id|                 x1|                 x2|                 x3|                 x4|                 x5|                 x6|                  x7|                  x8|                 x9|                x10|\n",
      "+-----+-------------------+-------------------+-------------------+-------------------+-------------------+-------------------+--------------------+--------------------+-------------------+-------------------+\n",
      "| row0| -3.166770597329104| -6.656821533308467|   4.48745106929225|-3.0262108754962957| -4.027539365764126|  2.232245307379662|  -7.045234210081067|   5.988626864416861| -8.487368215500444|  9.334317066843465|\n",
      "| row1| -9.684209510990058|  9.229980066898486|  5.946196765844924| -5.576624879331617| -6.846506376638757| -7.607506988755899| -1.8981382687299257|  0.3850572275293218| -1.131364514267997| -5.017755153248847|\n",
      "| row2| -8.411244851763911|-3.4882439019519684| -9.286693124893633|  7.545882997146182| -5.168007277484067| 3.7398325073005982|  -6.071230885287659|  2.3853251285139203| 0.8272706168417054| -7.046513456474826|\n",
      "| row3| -3.426842335412053|-4.0283183487534835| 5.5379105865490885| -4.692147231494071| -4.305795539856983|-1.7725397437574975|  -6.744186373057447|  3.9400254746708256| -9.321462890939635| 10.606296204696799|\n",
      "| row4|  9.066449511574216|  6.851678395962883|  9.085654155252369|  5.846003754493736| 2.1724951221268025|  9.023891861699974|  -7.224522250721426|  -8.324582549340256| -7.246586163812358|-3.3143037104389093|\n",
      "| row5| -7.158817610052229|  4.023753815591573|  3.850647507121349| 0.1970871015446123|  5.877694864866239|0.16929242384909482|0.017906716992186766| -3.4621480485700262| -9.381106994640563| -9.705620422907263|\n",
      "| row6| -3.108762455405367| -5.853421243111281|  8.876396848525363|-1.4891147679506753| -4.907099633078928|0.15789184517210497|  -8.354082818129323|   6.082690889474775| -5.433643429389392|  8.767099850585645|\n",
      "| row7|  6.675144438369616| 2.0660193014580885|  -4.85839317641462|  -9.82311618689186| -3.482171686150097| -3.717968178268136|  0.7091643278873687|   2.141922581576985|  7.562639222234278|-1.3414176677277543|\n",
      "| row8|  1.274493137120575| -8.433484225117889|-1.6973686639289243|-2.4341623765077096| -1.604148024257079|  5.718146241167294|  -5.090899824279169|   1.745645882402526|  2.062980784670955| -8.626407432451856|\n",
      "| row9|-3.3172250102255663|  8.693692876378522| 6.3181234542115075|  3.275255302441569|  -5.84401050318395| -6.878582755075953|  -9.508544833193689|   6.996683887844529|  3.290993554067416|  4.254277776848882|\n",
      "|row10|-2.2261672577889606|  9.956884925641367|   4.69536064787487| 1.9508220247630135| -6.449189173052306|  -6.60064855795725|  -9.385916808424422|   5.416952162342707|  4.833405401019664| 2.6397916613604027|\n",
      "|row11|  7.813985432627056|  1.236936857748665|  -4.32188184600193| -8.975675492028584| -3.993204689184493| -3.331056533968924|  5.5529563745232675|  3.1989247774539016|  7.000314325649017|-0.6796766374417254|\n",
      "|row12|-2.4596990545263173|  8.233224372812737|  2.182355898607143| 2.2367372199940676|  -5.79613488097794| -6.180129627197055| -10.652813822455471|   7.478292616098866| 1.8476265253881328|  4.025601213903645|\n",
      "|row13|-1.8338966974181714|  9.132571727863947| 3.6838425750186903| 1.5946189191376248| -7.202548690139908| -6.587552936140805| -10.602315091360957|   7.834560601743316|0.00933817762021194| 4.5727861778138355|\n",
      "|row14| 1.0791844237727863| -9.392194522157226|-5.6894013466119535|-1.2513591973724505|-1.4365480407110294|   5.48044310428057|  -7.461529465368499|  1.1444041443848216| 1.0518153025871837| -8.218762819514174|\n",
      "|row15|-1.7610918631640744| -3.471791261207907| 7.8242797033803955|-3.5222573485960513| -4.169727015886825| 1.2918395536402443|  -7.008025129076898|   6.141724349759498| -7.879840988401169|   9.44686324860255|\n",
      "|row16| -8.011616801702642|-0.5231932489350704| -10.13369543493617|  8.434116569049923|-3.7351901773631244|  5.843081343932569| -2.1157017707699755|-0.03332900717044779|-0.7368688353909989| -7.094309912171865|\n",
      "|row17|  4.857986177248461| -4.908072816027719| -2.726384498374453| -4.162128790337935| -1.433039668869562|  6.361509247962359|  -5.869187366052083|  0.1589439048100556|  2.363996491534251|-10.700601260598116|\n",
      "|row18| -5.937816345700031|-1.8835037837081838|-10.148095983403111|  7.446167180643265|-3.6322647762801283|  3.245207739043971| -2.7822740249555493| -0.6377206714306176| 1.6656412852984472| -6.668084347957747|\n",
      "|row19| -1.726730393988146| -5.609755417491675| 6.6744289109859505|-1.8148225913333262| -2.528807580177218| 0.5876444998030498|  -6.341255114792316|   5.875535568407938| -7.344691347591501|   9.39626986504327|\n",
      "+-----+-------------------+-------------------+-------------------+-------------------+-------------------+-------------------+--------------------+--------------------+-------------------+-------------------+\n",
      "only showing top 20 rows\n",
      "\n"
     ]
    }
   ],
   "source": [
    "df.show()"
   ]
  },
  {
   "cell_type": "code",
   "execution_count": 17,
   "metadata": {},
   "outputs": [
    {
     "name": "stdout",
     "output_type": "stream",
     "text": [
      "+----------+-----------+----------+----------+----------+----------+-----------+------------+-----------+-----------+\n",
      "|        x1|         x2|        x3|        x4|        x5|        x6|         x7|          x8|         x9|        x10|\n",
      "+----------+-----------+----------+----------+----------+----------+-----------+------------+-----------+-----------+\n",
      "|-3.1667707| -6.6568217|  4.487451|-3.0262108|-4.0275393| 2.2322452|  -7.045234|    5.988627|  -8.487369|   9.334317|\n",
      "|  -9.68421|    9.22998| 5.9461966| -5.576625|-6.8465066|-7.6075068| -1.8981383|  0.38505724| -1.1313645|  -5.017755|\n",
      "| -8.411244| -3.4882438| -9.286694|  7.545883|-5.1680074| 3.7398324|  -6.071231|   2.3853252|  0.8272706| -7.0465136|\n",
      "|-3.4268425| -4.0283184| 5.5379105|-4.6921473|-4.3057957|-1.7725397| -6.7441864|   3.9400256|  -9.321463|  10.606297|\n",
      "|  9.066449|  6.8516784|  9.085654| 5.8460035| 2.1724951|  9.023891|  -7.224522|   -8.324582| -7.2465863| -3.3143036|\n",
      "| -7.158818|  4.0237536| 3.8506474| 0.1970871|  5.877695|0.16929242|0.017906716|   -3.462148|  -9.381107|  -9.705621|\n",
      "|-3.1087625|  -5.853421|  8.876397|-1.4891148|-4.9070997|0.15789184|  -8.354083|   6.0826907| -5.4336433|   8.767099|\n",
      "| 6.6751447|  2.0660193| -4.858393| -9.823116|-3.4821718|-3.7179682|  0.7091643|   2.1419225|   7.562639| -1.3414177|\n",
      "| 1.2744931|  -8.433484|-1.6973686|-2.4341624| -1.604148| 5.7181463|    -5.0909|   1.7456459|   2.062981|  -8.626408|\n",
      "| -3.317225|   8.693693| 6.3181233| 3.2752552|-5.8440104| -6.878583|  -9.508545|    6.996684|  3.2909935|  4.2542777|\n",
      "|-2.2261672|   9.956885| 4.6953607|  1.950822| -6.449189|-6.6006484|  -9.385917|    5.416952|  4.8334055|  2.6397917|\n",
      "| 7.8139853|  1.2369368| -4.321882| -8.975676|-3.9932046|-3.3310566|  5.5529566|   3.1989248|   7.000314|-0.67967665|\n",
      "|-2.4596992|   8.233224| 2.1823559| 2.2367373| -5.796135|-6.1801295| -10.652814|   7.4782925|  1.8476266|  4.0256014|\n",
      "|-1.8338968|   9.132572| 3.6838427| 1.5946189|-7.2025485| -6.587553| -10.602315|   7.8345604|0.009338178|  4.5727863|\n",
      "| 1.0791844|  -9.392195| -5.689401|-1.2513592| -1.436548|  5.480443| -7.4615293|   1.1444042|  1.0518153|  -8.218762|\n",
      "|-1.7610918| -3.4717913|   7.82428|-3.5222573| -4.169727| 1.2918396|  -7.008025|   6.1417246|  -7.879841|   9.446863|\n",
      "| -8.011617|-0.52319324|-10.133696|  8.434116|-3.7351902| 5.8430815| -2.1157017|-0.033329006|-0.73686886|   -7.09431|\n",
      "|  4.857986|  -4.908073|-2.7263844| -4.162129|-1.4330397| 6.3615093| -5.8691874|   0.1589439|  2.3639965| -10.700602|\n",
      "| -5.937816| -1.8835038|-10.148096|  7.446167|-3.6322649| 3.2452078|  -2.782274| -0.63772064|  1.6656413|  -6.668084|\n",
      "|-1.7267303| -5.6097555|  6.674429|-1.8148226|-2.5288076| 0.5876445|  -6.341255|   5.8755355| -7.3446913|    9.39627|\n",
      "+----------+-----------+----------+----------+----------+----------+-----------+------------+-----------+-----------+\n",
      "only showing top 20 rows\n",
      "\n"
     ]
    }
   ],
   "source": [
    "df_feat = df.select(*(df[c].cast(\"float\").alias(c) for c in df.columns[1:]))\n",
    "df_feat.show()"
   ]
  },
  {
   "cell_type": "code",
   "execution_count": 18,
   "metadata": {},
   "outputs": [],
   "source": [
    "features = ['x1', 'x2', 'x3', 'x4', 'x5', 'x6', 'x7', 'x8', 'x9', 'x10']"
   ]
  },
  {
   "cell_type": "code",
   "execution_count": 19,
   "metadata": {},
   "outputs": [
    {
     "name": "stdout",
     "output_type": "stream",
     "text": [
      "+-----+----------+-----------+----------+----------+----------+----------+-----------+------------+-----------+-----------+\n",
      "|   id|        x1|         x2|        x3|        x4|        x5|        x6|         x7|          x8|         x9|        x10|\n",
      "+-----+----------+-----------+----------+----------+----------+----------+-----------+------------+-----------+-----------+\n",
      "| row0|-3.1667707| -6.6568217|  4.487451|-3.0262108|-4.0275393| 2.2322452|  -7.045234|    5.988627|  -8.487369|   9.334317|\n",
      "| row1|  -9.68421|    9.22998| 5.9461966| -5.576625|-6.8465066|-7.6075068| -1.8981383|  0.38505724| -1.1313645|  -5.017755|\n",
      "| row2| -8.411244| -3.4882438| -9.286694|  7.545883|-5.1680074| 3.7398324|  -6.071231|   2.3853252|  0.8272706| -7.0465136|\n",
      "| row3|-3.4268425| -4.0283184| 5.5379105|-4.6921473|-4.3057957|-1.7725397| -6.7441864|   3.9400256|  -9.321463|  10.606297|\n",
      "| row4|  9.066449|  6.8516784|  9.085654| 5.8460035| 2.1724951|  9.023891|  -7.224522|   -8.324582| -7.2465863| -3.3143036|\n",
      "| row5| -7.158818|  4.0237536| 3.8506474| 0.1970871|  5.877695|0.16929242|0.017906716|   -3.462148|  -9.381107|  -9.705621|\n",
      "| row6|-3.1087625|  -5.853421|  8.876397|-1.4891148|-4.9070997|0.15789184|  -8.354083|   6.0826907| -5.4336433|   8.767099|\n",
      "| row7| 6.6751447|  2.0660193| -4.858393| -9.823116|-3.4821718|-3.7179682|  0.7091643|   2.1419225|   7.562639| -1.3414177|\n",
      "| row8| 1.2744931|  -8.433484|-1.6973686|-2.4341624| -1.604148| 5.7181463|    -5.0909|   1.7456459|   2.062981|  -8.626408|\n",
      "| row9| -3.317225|   8.693693| 6.3181233| 3.2752552|-5.8440104| -6.878583|  -9.508545|    6.996684|  3.2909935|  4.2542777|\n",
      "|row10|-2.2261672|   9.956885| 4.6953607|  1.950822| -6.449189|-6.6006484|  -9.385917|    5.416952|  4.8334055|  2.6397917|\n",
      "|row11| 7.8139853|  1.2369368| -4.321882| -8.975676|-3.9932046|-3.3310566|  5.5529566|   3.1989248|   7.000314|-0.67967665|\n",
      "|row12|-2.4596992|   8.233224| 2.1823559| 2.2367373| -5.796135|-6.1801295| -10.652814|   7.4782925|  1.8476266|  4.0256014|\n",
      "|row13|-1.8338968|   9.132572| 3.6838427| 1.5946189|-7.2025485| -6.587553| -10.602315|   7.8345604|0.009338178|  4.5727863|\n",
      "|row14| 1.0791844|  -9.392195| -5.689401|-1.2513592| -1.436548|  5.480443| -7.4615293|   1.1444042|  1.0518153|  -8.218762|\n",
      "|row15|-1.7610918| -3.4717913|   7.82428|-3.5222573| -4.169727| 1.2918396|  -7.008025|   6.1417246|  -7.879841|   9.446863|\n",
      "|row16| -8.011617|-0.52319324|-10.133696|  8.434116|-3.7351902| 5.8430815| -2.1157017|-0.033329006|-0.73686886|   -7.09431|\n",
      "|row17|  4.857986|  -4.908073|-2.7263844| -4.162129|-1.4330397| 6.3615093| -5.8691874|   0.1589439|  2.3639965| -10.700602|\n",
      "|row18| -5.937816| -1.8835038|-10.148096|  7.446167|-3.6322649| 3.2452078|  -2.782274| -0.63772064|  1.6656413|  -6.668084|\n",
      "|row19|-1.7267303| -5.6097555|  6.674429|-1.8148226|-2.5288076| 0.5876445|  -6.341255|   5.8755355| -7.3446913|    9.39627|\n",
      "+-----+----------+-----------+----------+----------+----------+----------+-----------+------------+-----------+-----------+\n",
      "only showing top 20 rows\n",
      "\n"
     ]
    }
   ],
   "source": [
    "for col in df.columns:\n",
    "    if col in features:\n",
    "        df = df.withColumn(col,df[col].cast('float'))\n",
    "df.show()"
   ]
  },
  {
   "cell_type": "code",
   "execution_count": 20,
   "metadata": {},
   "outputs": [
    {
     "name": "stdout",
     "output_type": "stream",
     "text": [
      "+-----+--------------------+\n",
      "|   id|            features|\n",
      "+-----+--------------------+\n",
      "| row0|[-3.1667706966400...|\n",
      "| row1|[-9.6842098236083...|\n",
      "| row2|[-8.4112443923950...|\n",
      "| row3|[-3.4268424510955...|\n",
      "| row4|[9.06644916534423...|\n",
      "| row5|[-7.1588177680969...|\n",
      "| row6|[-3.1087625026702...|\n",
      "| row7|[6.67514467239379...|\n",
      "| row8|[1.27449309825897...|\n",
      "| row9|[-3.3172249794006...|\n",
      "|row10|[-2.2261672019958...|\n",
      "|row11|[7.81398534774780...|\n",
      "|row12|[-2.4596991539001...|\n",
      "|row13|[-1.8338967561721...|\n",
      "|row14|[1.07918441295623...|\n",
      "|row15|[-1.7610918283462...|\n",
      "|row16|[-8.0116167068481...|\n",
      "|row17|[4.85798597335815...|\n",
      "|row18|[-5.9378161430358...|\n",
      "|row19|[-1.7267303466796...|\n",
      "+-----+--------------------+\n",
      "only showing top 20 rows\n",
      "\n"
     ]
    }
   ],
   "source": [
    "vecAssembler = VectorAssembler(inputCols=features, outputCol=\"features\")\n",
    "df_kmeans = vecAssembler.transform(df).select('id', 'features')\n",
    "df_kmeans.show()"
   ]
  },
  {
   "cell_type": "code",
   "execution_count": 21,
   "metadata": {},
   "outputs": [],
   "source": [
    "from pyspark.ml.clustering import BisectingKMeans\n",
    "from pyspark.ml.evaluation import ClusteringEvaluator"
   ]
  },
  {
   "cell_type": "code",
   "execution_count": 22,
   "metadata": {},
   "outputs": [],
   "source": [
    "silhouette = np.zeros(20)\n",
    "for k in range(2,20):\n",
    "    kmeans = KMeans().setK(k).setSeed(1).setFeaturesCol(\"features\")\n",
    "    model = kmeans.fit(df_kmeans.sample(False,0.1, seed=42))\n",
    "    predictions = model.transform(df_kmeans)\n",
    "    evaluator = ClusteringEvaluator()\n",
    "    silhouette[k] = evaluator.evaluate(predictions)"
   ]
  },
  {
   "cell_type": "code",
   "execution_count": 23,
   "metadata": {},
   "outputs": [
    {
     "data": {
      "text/plain": [
       "Text(0,0.5,'silhouette')"
      ]
     },
     "execution_count": 23,
     "metadata": {},
     "output_type": "execute_result"
    },
    {
     "data": {
      "image/png": "[encoded data removed]",
      "text/plain": [
       "<Figure size 576x432 with 1 Axes>"
      ]
     },
     "metadata": {},
     "output_type": "display_data"
    }
   ],
   "source": [
    "fig, ax = plt.subplots(1,1, figsize =(8,6))\n",
    "ax.plot(range(2,20),silhouette[2:20])\n",
    "ax.set_xlabel('k')\n",
    "ax.set_ylabel('silhouette')"
   ]
  },
  {
   "cell_type": "code",
   "execution_count": 24,
   "metadata": {},
   "outputs": [],
   "source": [
    "kmeans = KMeans().setK(9).setSeed(1).setFeaturesCol(\"features\")\n",
    "model = kmeans.fit(df_kmeans.sample(False,0.1, seed=42))\n",
    "predictions = model.transform(df_kmeans)\n",
    "evaluator = ClusteringEvaluator()\n",
    "silhouette[k] = evaluator.evaluate(predictions)"
   ]
  },
  {
   "cell_type": "code",
   "execution_count": 25,
   "metadata": {},
   "outputs": [
    {
     "name": "stdout",
     "output_type": "stream",
     "text": [
      "Cluster Centers: \n",
      "[ 2.14332851 -6.57765001 -8.69121321  8.98550475  9.3157142   6.16800035\n",
      " -3.92121984 -8.03985963  3.66850602 -1.19955819]\n",
      "[-9.58623883  9.38841496  6.64098035 -5.76230542 -6.35230116 -6.34229102\n",
      " -3.90811076  0.50248413 -1.35570785 -4.17307294]\n",
      "[ 9.3992149   5.50553021  8.79615082  7.88553735  1.95953629  8.44294603\n",
      " -8.2286448  -6.07735087 -9.09479548 -3.4991002 ]\n",
      "[ 7.25092585  2.4654827  -3.37523309 -8.73394077 -3.78675174 -3.4923245\n",
      "  4.59323184  2.74438472  7.75607733 -0.54831631]\n",
      "[-2.49888046  9.01793405  4.64709909  1.97466447 -6.86596685 -6.87885853\n",
      " -8.83743109  7.3131444   2.02777823  4.16501508]\n",
      "[-2.66616607 -3.65888614 -6.73525349  2.7749826  -2.84412544  4.47554106\n",
      " -4.89135097  0.34328021  1.38478608 -7.69425354]\n",
      "[ 5.44643619 -6.02654085 -9.87863204  6.2918944   4.11262199  4.58712572\n",
      "  5.4283074  -8.52177984 -2.81630374 -7.68735337]\n",
      "[-7.61423113  4.25812005  5.23098448  1.23827501  5.4212614  -0.15410869\n",
      "  0.43478931 -1.44870365 -9.49127797 -7.84771291]\n",
      "[-2.2303524  -4.57572827  6.56487868 -2.86562952 -4.38127863  0.86453525\n",
      " -7.19516886  6.05691021 -8.51672449  9.74050447]\n"
     ]
    }
   ],
   "source": [
    "centers = model.clusterCenters()\n",
    "print(\"Cluster Centers: \")\n",
    "for center in centers:\n",
    "    print(center)"
   ]
  },
  {
   "cell_type": "code",
   "execution_count": 26,
   "metadata": {},
   "outputs": [
    {
     "name": "stdout",
     "output_type": "stream",
     "text": [
      "[Row(id='row0', prediction=8), Row(id='row1', prediction=1), Row(id='row2', prediction=5)]\n"
     ]
    }
   ],
   "source": [
    "transformed = model.transform(df_kmeans).select('id', 'prediction')\n",
    "rows = transformed.collect()\n",
    "print(rows[:3])"
   ]
  },
  {
   "cell_type": "code",
   "execution_count": 27,
   "metadata": {},
   "outputs": [
    {
     "name": "stdout",
     "output_type": "stream",
     "text": [
      "+----+----------+\n",
      "|  id|prediction|\n",
      "+----+----------+\n",
      "|row0|         8|\n",
      "|row1|         1|\n",
      "|row2|         5|\n",
      "|row3|         8|\n",
      "|row4|         2|\n",
      "|row5|         7|\n",
      "|row6|         8|\n",
      "|row7|         3|\n",
      "|row8|         5|\n",
      "|row9|         4|\n",
      "+----+----------+\n",
      "only showing top 10 rows\n",
      "\n"
     ]
    }
   ],
   "source": [
    "transformed.show(10)"
   ]
  },
  {
   "cell_type": "code",
   "execution_count": 28,
   "metadata": {},
   "outputs": [
    {
     "name": "stdout",
     "output_type": "stream",
     "text": [
      "+---------+----------+----------+------------+----------+----------+-----------+-----------+----------+-----------+----------+----------+\n",
      "|       id|prediction|        x1|          x2|        x3|        x4|         x5|         x6|        x7|         x8|        x9|       x10|\n",
      "+---------+----------+----------+------------+----------+----------+-----------+-----------+----------+-----------+----------+----------+\n",
      "|row100093|         5| -7.706476|-0.041760348| -7.642354| 7.7740793| -2.4301698|  3.1249366|-4.6166716|  0.3699733|  0.622481| -6.827555|\n",
      "|row100200|         8|-1.2829843|  -4.3128405| 5.2398705|-1.3323084| -2.3750305|  0.5926406| -5.734301|    6.61876| -8.910123| 8.9012575|\n",
      "|row100356|         4|-2.4537423|    11.92727| 3.0797682|  2.645215|   -5.93955| -7.6319265| -10.00788|   6.167714|0.20664999| 5.1303782|\n",
      "| row10044|         0| 2.5934064|  -6.7016253| -6.374908|  9.361262|  10.167696|   6.544834|-6.0826373|  -8.537234| 3.3962393|-1.4735045|\n",
      "|row100578|         6|  5.350537|  -6.6529493| -9.445839|  4.535946|   5.552589|   4.991347| 6.3536468| -7.9030156| -2.759991|-7.8678164|\n",
      "|row100888|         4|-1.4123585|    8.251116| 3.6900878| 1.1594503|  -7.357494| -6.8068523| -8.961735|  7.4020042| 3.4317944| 3.5612905|\n",
      "|row101217|         4| -3.406852|    9.210361| 5.5912957| 1.0074494| -6.1066256|  -5.747107| -9.507685|  5.3442287| 0.8142963|  6.610485|\n",
      "|row101689|         4|-1.2036635|    9.488118| 6.4046855| 1.8860631|  -6.931945|  -6.962097|-8.3839855|   10.06643|  2.127394| 3.2728946|\n",
      "|row101831|         2| 10.364248|   3.8818297|  9.400539|  7.855274|-0.04198695|   9.683336|-7.1954947| -5.5083847| -9.060005|-3.0042813|\n",
      "|row102220|         4|-2.4783375|    9.781052| 5.6273766|  2.325821|  -6.829812|  -7.293756| -10.57365|   7.803141| 4.3698077| 1.6642566|\n",
      "| row10232|         0| 0.9388235|  -5.9034977| -7.485241|  9.365291|  10.048057|   5.740121|-4.4516487| -7.2181387|  2.062198|-1.9151983|\n",
      "|row102323|         6|  4.830823|   -5.474779|-11.661423|  5.090278|   4.108165|  3.3560634| 5.5181594|  -8.869092| -3.530936|-7.5983524|\n",
      "|row102395|         5| -6.307615|  -0.9351978| -9.292437|   8.93391| -3.8649774|  3.1867816|-4.1420755|-0.49209842| 2.0007164| -7.044039|\n",
      "|row102809|         0| 0.4950717|  -6.1956186| -9.109211|   9.27981|   9.531872|   5.137033|-2.9132361| -6.9873304| 4.2797637|-0.8778608|\n",
      "|row102828|         2|   9.80637|   5.7235675| 7.4150457|  9.132382|    1.93107|   8.480825| -9.110715|  -5.871454| -9.231388|-2.9459782|\n",
      "|row103394|         4|-1.2875848|    9.047283| 4.2803574|0.80050504| -6.2133913|  -6.066173|  -9.37703|   6.811283|  1.170661| 4.8660836|\n",
      "|row103555|         6| 4.8293705|    -8.48155|-10.401708| 7.2684956|  2.9557285|  3.4304786| 5.8568172|  -8.097261| -4.982957|  -7.80455|\n",
      "|row103614|         4|-2.4467092|    9.662231|  4.793325| 2.4431775| -7.1451435|  -8.207509|-10.859934|  7.8219995| 1.8636328| 3.5033624|\n",
      "| row10368|         6| 6.6377826|   -6.227807| -9.338408| 6.3143635|  4.8525653|   4.985319|   5.23606|  -8.493356|-2.1383903| -7.935132|\n",
      "| row10382|         7| -8.034393|    4.755033| 5.6721625| 2.3539371|  6.2407584|0.024501953|0.07626243| 0.18784362|-7.9698663| -8.253927|\n",
      "+---------+----------+----------+------------+----------+----------+-----------+-----------+----------+-----------+----------+----------+\n",
      "only showing top 20 rows\n",
      "\n"
     ]
    }
   ],
   "source": [
    "df_pred = transformed.join(df, 'id')\n",
    "df_pred.show()"
   ]
  },
  {
   "cell_type": "code",
   "execution_count": 29,
   "metadata": {},
   "outputs": [
    {
     "data": {
      "text/html": [
       "<div>\n",
       "<style scoped>\n",
       "    .dataframe tbody tr th:only-of-type {\n",
       "        vertical-align: middle;\n",
       "    }\n",
       "\n",
       "    .dataframe tbody tr th {\n",
       "        vertical-align: top;\n",
       "    }\n",
       "\n",
       "    .dataframe thead th {\n",
       "        text-align: right;\n",
       "    }\n",
       "</style>\n",
       "<table border=\"1\" class=\"dataframe\">\n",
       "  <thead>\n",
       "    <tr style=\"text-align: right;\">\n",
       "      <th></th>\n",
       "      <th>prediction</th>\n",
       "      <th>x1</th>\n",
       "      <th>x2</th>\n",
       "      <th>x3</th>\n",
       "      <th>x4</th>\n",
       "      <th>x5</th>\n",
       "      <th>x6</th>\n",
       "      <th>x7</th>\n",
       "      <th>x8</th>\n",
       "      <th>x9</th>\n",
       "      <th>x10</th>\n",
       "    </tr>\n",
       "    <tr>\n",
       "      <th>id</th>\n",
       "      <th></th>\n",
       "      <th></th>\n",
       "      <th></th>\n",
       "      <th></th>\n",
       "      <th></th>\n",
       "      <th></th>\n",
       "      <th></th>\n",
       "      <th></th>\n",
       "      <th></th>\n",
       "      <th></th>\n",
       "      <th></th>\n",
       "    </tr>\n",
       "  </thead>\n",
       "  <tbody>\n",
       "    <tr>\n",
       "      <th>row100093</th>\n",
       "      <td>5</td>\n",
       "      <td>-7.706476</td>\n",
       "      <td>-0.041760</td>\n",
       "      <td>-7.642354</td>\n",
       "      <td>7.774079</td>\n",
       "      <td>-2.430170</td>\n",
       "      <td>3.124937</td>\n",
       "      <td>-4.616672</td>\n",
       "      <td>0.369973</td>\n",
       "      <td>0.622481</td>\n",
       "      <td>-6.827555</td>\n",
       "    </tr>\n",
       "    <tr>\n",
       "      <th>row100200</th>\n",
       "      <td>8</td>\n",
       "      <td>-1.282984</td>\n",
       "      <td>-4.312840</td>\n",
       "      <td>5.239871</td>\n",
       "      <td>-1.332308</td>\n",
       "      <td>-2.375031</td>\n",
       "      <td>0.592641</td>\n",
       "      <td>-5.734301</td>\n",
       "      <td>6.618760</td>\n",
       "      <td>-8.910123</td>\n",
       "      <td>8.901258</td>\n",
       "    </tr>\n",
       "    <tr>\n",
       "      <th>row100356</th>\n",
       "      <td>4</td>\n",
       "      <td>-2.453742</td>\n",
       "      <td>11.927270</td>\n",
       "      <td>3.079768</td>\n",
       "      <td>2.645215</td>\n",
       "      <td>-5.939550</td>\n",
       "      <td>-7.631927</td>\n",
       "      <td>-10.007880</td>\n",
       "      <td>6.167714</td>\n",
       "      <td>0.206650</td>\n",
       "      <td>5.130378</td>\n",
       "    </tr>\n",
       "    <tr>\n",
       "      <th>row10044</th>\n",
       "      <td>0</td>\n",
       "      <td>2.593406</td>\n",
       "      <td>-6.701625</td>\n",
       "      <td>-6.374908</td>\n",
       "      <td>9.361262</td>\n",
       "      <td>10.167696</td>\n",
       "      <td>6.544834</td>\n",
       "      <td>-6.082637</td>\n",
       "      <td>-8.537234</td>\n",
       "      <td>3.396239</td>\n",
       "      <td>-1.473505</td>\n",
       "    </tr>\n",
       "    <tr>\n",
       "      <th>row100578</th>\n",
       "      <td>6</td>\n",
       "      <td>5.350537</td>\n",
       "      <td>-6.652949</td>\n",
       "      <td>-9.445839</td>\n",
       "      <td>4.535946</td>\n",
       "      <td>5.552589</td>\n",
       "      <td>4.991347</td>\n",
       "      <td>6.353647</td>\n",
       "      <td>-7.903016</td>\n",
       "      <td>-2.759991</td>\n",
       "      <td>-7.867816</td>\n",
       "    </tr>\n",
       "  </tbody>\n",
       "</table>\n",
       "</div>"
      ],
      "text/plain": [
       "           prediction        x1         x2        x3        x4         x5  \\\n",
       "id                                                                          \n",
       "row100093           5 -7.706476  -0.041760 -7.642354  7.774079  -2.430170   \n",
       "row100200           8 -1.282984  -4.312840  5.239871 -1.332308  -2.375031   \n",
       "row100356           4 -2.453742  11.927270  3.079768  2.645215  -5.939550   \n",
       "row10044            0  2.593406  -6.701625 -6.374908  9.361262  10.167696   \n",
       "row100578           6  5.350537  -6.652949 -9.445839  4.535946   5.552589   \n",
       "\n",
       "                 x6         x7        x8        x9       x10  \n",
       "id                                                            \n",
       "row100093  3.124937  -4.616672  0.369973  0.622481 -6.827555  \n",
       "row100200  0.592641  -5.734301  6.618760 -8.910123  8.901258  \n",
       "row100356 -7.631927 -10.007880  6.167714  0.206650  5.130378  \n",
       "row10044   6.544834  -6.082637 -8.537234  3.396239 -1.473505  \n",
       "row100578  4.991347   6.353647 -7.903016 -2.759991 -7.867816  "
      ]
     },
     "execution_count": 29,
     "metadata": {},
     "output_type": "execute_result"
    }
   ],
   "source": [
    "pddf_pred = df_pred.toPandas().set_index('id')\n",
    "pddf_pred.head()"
   ]
  },
  {
   "cell_type": "code",
   "execution_count": null,
   "metadata": {},
   "outputs": [],
   "source": []
  }
 ],
 "metadata": {
  "kernelspec": {
   "display_name": "Python 3",
   "language": "python",
   "name": "python3"
  },
  "language_info": {
   "codemirror_mode": {
    "name": "ipython",
    "version": 3
   },
   "file_extension": ".py",
   "mimetype": "text/x-python",
   "name": "python",
   "nbconvert_exporter": "python",
   "pygments_lexer": "ipython3",
   "version": "3.6.5"
  }
 },
 "nbformat": 4,
 "nbformat_minor": 2
}
